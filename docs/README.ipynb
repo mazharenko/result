{
 "cells": [
  {
   "cell_type": "markdown",
   "metadata": {
    "dotnet_interactive": {
     "language": "csharp"
    }
   },
   "source": [
    "# Result\n",
    "\n",
    "Yet another `Result` monad implementation, yet with some unconventional features.\n",
    "\n",
    "## Table of contents\n",
    "\n",
    "1. [Monadic staff](#monadic)"
   ]
  },
  {
   "cell_type": "code",
   "execution_count": null,
   "metadata": {
    "dotnet_interactive": {
     "language": "csharp"
    },
    "vscode": {
     "languageId": "dotnet-interactive.csharp"
    }
   },
   "outputs": [
    {
     "data": {
      "text/html": [
       "<div><div><strong>Restore sources</strong><ul><li><span>C:\\Workspace\\result\\src\\result.Interactive\\bin\\Release</span></li><li><span>C:\\Workspace\\result\\src\\result\\bin\\Release</span></li></ul></div><div></div><div></div></div>"
      ]
     },
     "metadata": {},
     "output_type": "display_data"
    }
   ],
   "source": [
    "#i nuget:C:\\Workspace\\result\\src\\result.Interactive\\bin\\Release\n",
    "#i nuget:C:\\Workspace\\result\\src\\result\\bin\\Release"
   ]
  },
  {
   "cell_type": "code",
   "execution_count": null,
   "metadata": {
    "dotnet_interactive": {
     "language": "csharp"
    },
    "vscode": {
     "languageId": "dotnet-interactive.csharp"
    }
   },
   "outputs": [
    {
     "data": {
      "text/html": [
       "<div><div><strong>Restore sources</strong><ul><li><span>C:\\Workspace\\result\\src\\result.Interactive\\bin\\Release</span></li><li><span>C:\\Workspace\\result\\src\\result\\bin\\Release</span></li></ul></div><div></div><div><strong>Installed Packages</strong><ul><li><span>mazharenko.result, 0.2.4</span></li><li><span>mazharenko.result.Interactive, 0.2.2</span></li></ul></div></div>"
      ]
     },
     "metadata": {},
     "output_type": "display_data"
    }
   ],
   "source": [
    "#r \"nuget: mazharenko.result, 0.2.4\"\n",
    "#r \"nuget: mazharenko.result.Interactive, 0.2.2\"\n",
    "\n",
    "using mazharenko.result;"
   ]
  },
  {
   "cell_type": "markdown",
   "metadata": {},
   "source": [
    "## Wrapping\n",
    "\n",
    "There is a variety of ways to instantiate both successful and failed results depending on the context. "
   ]
  },
  {
   "cell_type": "code",
   "execution_count": null,
   "metadata": {
    "dotnet_interactive": {
     "language": "csharp"
    },
    "vscode": {
     "languageId": "dotnet-interactive.csharp"
    }
   },
   "outputs": [
    {
     "data": {
      "text/html": [
       "<span style=\"border: 4px solid green; background-color: hsla(129, 100%, 60%, 0.2); padding: 10px; display: inline-block\"><div class=\"dni-plaintext\">42</div></span>\r\n"
      ]
     },
     "metadata": {},
     "output_type": "display_data"
    },
    {
     "data": {
      "text/html": [
       "<span style=\"border: 4px solid red; background-color: hsla(208, 100%, 60%, 0.2); padding: 10px; display: inline-block\">something went wrong</span>\r\n"
      ]
     },
     "metadata": {},
     "output_type": "display_data"
    }
   ],
   "source": [
    "Result<int, string>.Success(42).Display();\n",
    "Result<int, string>.Failure(\"something went wrong\").Display();"
   ]
  },
  {
   "cell_type": "code",
   "execution_count": null,
   "metadata": {
    "dotnet_interactive": {
     "language": "csharp"
    },
    "vscode": {
     "languageId": "dotnet-interactive.csharp"
    }
   },
   "outputs": [
    {
     "data": {
      "text/html": [
       "<span style=\"border: 4px solid green; background-color: hsla(129, 100%, 60%, 0.2); padding: 10px; display: inline-block\"><div class=\"dni-plaintext\">42</div></span>\r\n"
      ]
     },
     "metadata": {},
     "output_type": "display_data"
    },
    {
     "data": {
      "text/html": [
       "<span style=\"border: 4px solid red; background-color: hsla(208, 100%, 60%, 0.2); padding: 10px; display: inline-block\">something went wrong</span>\r\n"
      ]
     },
     "metadata": {},
     "output_type": "display_data"
    }
   ],
   "source": [
    "Result.From(true, 42, \"something went wrong\").Display();\n",
    "Result.From(false, 42, \"something went wrong\").Display();"
   ]
  },
  {
   "cell_type": "markdown",
   "metadata": {},
   "source": [
    "The most used way though is to rely on implicit cast operators. When a method is declared to return a specific `Result<,>` type and the type arguments are different, the developer can return these types instead"
   ]
  },
  {
   "cell_type": "code",
   "execution_count": null,
   "metadata": {
    "dotnet_interactive": {
     "language": "csharp"
    },
    "vscode": {
     "languageId": "dotnet-interactive.csharp"
    }
   },
   "outputs": [
    {
     "data": {
      "text/html": [
       "<span style=\"border: 4px solid green; background-color: hsla(129, 100%, 60%, 0.2); padding: 10px; display: inline-block\"><div class=\"dni-plaintext\">42</div></span>\r\n"
      ]
     },
     "metadata": {},
     "output_type": "display_data"
    },
    {
     "data": {
      "text/html": [
       "<span style=\"border: 4px solid red; background-color: hsla(208, 100%, 60%, 0.2); padding: 10px; display: inline-block\">something went wrong</span>\r\n"
      ]
     },
     "metadata": {},
     "output_type": "display_data"
    }
   ],
   "source": [
    "Result<int, string> Method(bool success) {\n",
    "\treturn success ? 42 : \"something went wrong\";\n",
    "}\n",
    "\n",
    "Method(true).Display();\n",
    "Method(false).Display();"
   ]
  },
  {
   "cell_type": "markdown",
   "metadata": {},
   "source": [
    "When dealing with `Result`s defining the same type for fail and success and for those who enjoy more explicitness, there is a couple of intermediary types which clearly say what the operation state is, but still allow not to write full generic type definitions."
   ]
  },
  {
   "cell_type": "code",
   "execution_count": null,
   "metadata": {
    "dotnet_interactive": {
     "language": "csharp"
    },
    "vscode": {
     "languageId": "dotnet-interactive.csharp"
    }
   },
   "outputs": [
    {
     "data": {
      "text/html": [
       "<span style=\"border: 4px solid green; background-color: hsla(129, 100%, 60%, 0.2); padding: 10px; display: inline-block\"><div class=\"dni-plaintext\">42</div></span>\r\n"
      ]
     },
     "metadata": {},
     "output_type": "display_data"
    }
   ],
   "source": [
    "Result<int, string> Method(bool success) {\n",
    "\treturn success ? Result.Success(42) : Result.Failure(\"something went wrong\");\n",
    "}\n",
    "\n",
    "Method(true)"
   ]
  },
  {
   "cell_type": "code",
   "execution_count": null,
   "metadata": {
    "dotnet_interactive": {
     "language": "csharp"
    },
    "vscode": {
     "languageId": "dotnet-interactive.csharp"
    }
   },
   "outputs": [
    {
     "data": {
      "text/html": [
       "<span style=\"border: 4px solid red; background-color: hsla(208, 100%, 60%, 0.2); padding: 10px; display: inline-block\">something went wrong</span>\r\n"
      ]
     },
     "metadata": {},
     "output_type": "display_data"
    }
   ],
   "source": [
    "Method(false)"
   ]
  },
  {
   "cell_type": "markdown",
   "metadata": {},
   "source": []
  },
  {
   "cell_type": "markdown",
   "metadata": {},
   "source": [
    "## Unwrapping\n",
    "\n",
    "The most basic way to process data stored in the `Result` container is the `Match` method. It forces to specify how we want to process a failure. There are overloads accepting values, actions, functions, tasks."
   ]
  },
  {
   "cell_type": "code",
   "execution_count": null,
   "metadata": {
    "dotnet_interactive": {
     "language": "csharp"
    },
    "vscode": {
     "languageId": "dotnet-interactive.csharp"
    }
   },
   "outputs": [
    {
     "data": {
      "text/html": [
       "<span style=\"border: 4px solid green; background-color: hsla(129, 100%, 60%, 0.2); padding: 10px; display: inline-block\"><div class=\"dni-plaintext\">42</div></span>\r\n"
      ]
     },
     "metadata": {},
     "output_type": "display_data"
    },
    {
     "data": {
      "text/plain": [
       "value 42"
      ]
     },
     "metadata": {},
     "output_type": "display_data"
    }
   ],
   "source": [
    "Result<int, string> success = 42;\n",
    "Result<int, string> error = \"something went wrong\";\n",
    "\n",
    "success.DisplayPipe()\n",
    "\t.Match(value => $\"value {value}\", er => \"no value\")"
   ]
  },
  {
   "cell_type": "code",
   "execution_count": null,
   "metadata": {
    "dotnet_interactive": {
     "language": "csharp"
    },
    "vscode": {
     "languageId": "dotnet-interactive.csharp"
    }
   },
   "outputs": [
    {
     "data": {
      "text/html": [
       "<span style=\"border: 4px solid red; background-color: hsla(208, 100%, 60%, 0.2); padding: 10px; display: inline-block\">something went wrong</span>\r\n"
      ]
     },
     "metadata": {},
     "output_type": "display_data"
    },
    {
     "data": {
      "text/plain": [
       "no value"
      ]
     },
     "metadata": {},
     "output_type": "display_data"
    }
   ],
   "source": [
    "\n",
    "error.DisplayPipe()\n",
    "\t.Match(value => $\"value {value}\", er => \"no value\")"
   ]
  },
  {
   "cell_type": "markdown",
   "metadata": {},
   "source": [
    "There is a set of shortcut methods `Or`, handy when the success outcome type should not change."
   ]
  },
  {
   "cell_type": "code",
   "execution_count": null,
   "metadata": {
    "dotnet_interactive": {
     "language": "csharp"
    },
    "vscode": {
     "languageId": "dotnet-interactive.csharp"
    }
   },
   "outputs": [
    {
     "data": {
      "text/html": [
       "<span style=\"border: 4px solid red; background-color: hsla(208, 100%, 60%, 0.2); padding: 10px; display: inline-block\">error</span>\r\n"
      ]
     },
     "metadata": {},
     "output_type": "display_data"
    },
    {
     "data": {
      "text/html": [
       "<div class=\"dni-plaintext\">-1</div>"
      ]
     },
     "metadata": {},
     "output_type": "display_data"
    }
   ],
   "source": [
    "Result<int, string>.Failure(\"error\").DisplayPipe()\n",
    "\t.Or(-1)"
   ]
  },
  {
   "cell_type": "markdown",
   "metadata": {},
   "source": [
    "The imperative way to extract values from a `Result`, which can be handy in some circumstances, is using a set of `TryGet` methods. Compiler then provides *some* assistance on when one can use which variables, but the approach has some limitations, and thus is not recommended."
   ]
  },
  {
   "cell_type": "code",
   "execution_count": null,
   "metadata": {
    "dotnet_interactive": {
     "language": "csharp"
    },
    "vscode": {
     "languageId": "dotnet-interactive.csharp"
    }
   },
   "outputs": [
    {
     "data": {
      "text/html": [
       "<span style=\"border: 4px solid green; background-color: hsla(208, 100%, 60%, 0.2); padding: 10px; display: inline-block\">42</span>\r\n"
      ]
     },
     "metadata": {},
     "output_type": "display_data"
    },
    {
     "data": {
      "text/plain": [
       "42"
      ]
     },
     "metadata": {},
     "output_type": "display_data"
    }
   ],
   "source": [
    "Result<string, string> result = Result.Success(\"42\");\n",
    "\n",
    "result.Display();\n",
    "\n",
    "if (result.TryGet(out var value, out var failure))\n",
    "{\n",
    "\tvalue.Display();\n",
    "\t//failure.Display(); // would produce a warning at compile time and <null> at runtime\n",
    "}\n",
    "else\n",
    "{\n",
    "\t//value.Display(); // would produce a warning at compile time and <null> at runtime\n",
    "\tfailure.Display();\n",
    "}"
   ]
  },
  {
   "cell_type": "markdown",
   "metadata": {},
   "source": [
    " <a name=\"monadic\"></a>\n",
    " ## Monadic stuff \n",
    "\n",
    "`Result` is a functor, so it provides `Map` methods to safely map a value with a function, producing another value, possibly of another type, for a new `Result`. Also, there are methods `OrMap` to map a failure with a function."
   ]
  },
  {
   "cell_type": "code",
   "execution_count": null,
   "metadata": {
    "dotnet_interactive": {
     "language": "csharp"
    },
    "vscode": {
     "languageId": "dotnet-interactive.csharp"
    }
   },
   "outputs": [
    {
     "data": {
      "text/html": [
       "<span style=\"border: 4px solid green; background-color: hsla(129, 100%, 60%, 0.2); padding: 10px; display: inline-block\"><div class=\"dni-plaintext\">-5</div></span>\r\n"
      ]
     },
     "metadata": {},
     "output_type": "display_data"
    },
    {
     "data": {
      "text/html": [
       "<span style=\"border: 4px solid green; background-color: hsla(129, 100%, 60%, 0.2); padding: 10px; display: inline-block\"><div class=\"dni-plaintext\">-500</div></span>\r\n"
      ]
     },
     "metadata": {},
     "output_type": "display_data"
    }
   ],
   "source": [
    "public static class IntExtensions\n",
    "{\n",
    "\tpublic static Result<int, string> Parse(string from)\n",
    "\t{\n",
    "\t\tif (int.TryParse(from, out var value))\n",
    "\t\t\treturn value;\n",
    "\t\treturn \"wrong format\";\n",
    "\t}\n",
    "}\n",
    "\n",
    "IntExtensions.Parse(\"-5\")\n",
    ".DisplayPipe()\n",
    ".Map(value => value * 100)"
   ]
  },
  {
   "cell_type": "code",
   "execution_count": null,
   "metadata": {
    "dotnet_interactive": {
     "language": "csharp"
    },
    "vscode": {
     "languageId": "dotnet-interactive.csharp"
    }
   },
   "outputs": [
    {
     "data": {
      "text/html": [
       "<span style=\"border: 4px solid red; background-color: hsla(208, 100%, 60%, 0.2); padding: 10px; display: inline-block\">wrong format</span>\r\n"
      ]
     },
     "metadata": {},
     "output_type": "display_data"
    },
    {
     "data": {
      "text/html": [
       "<span style=\"border: 4px solid red; background-color: hsla(208, 100%, 60%, 0.2); padding: 10px; display: inline-block\">wrong format</span>\r\n"
      ]
     },
     "metadata": {},
     "output_type": "display_data"
    }
   ],
   "source": [
    "IntExtensions.Parse(\"qwerty\")\n",
    "\t.DisplayPipe()\n",
    "\t.Map(value => value * 100)"
   ]
  },
  {
   "cell_type": "code",
   "execution_count": null,
   "metadata": {
    "dotnet_interactive": {
     "language": "csharp"
    },
    "vscode": {
     "languageId": "dotnet-interactive.csharp"
    }
   },
   "outputs": [
    {
     "data": {
      "text/html": [
       "<span style=\"border: 4px solid green; background-color: hsla(129, 100%, 60%, 0.2); padding: 10px; display: inline-block\"><div class=\"dni-plaintext\">-5</div></span>\r\n"
      ]
     },
     "metadata": {},
     "output_type": "display_data"
    },
    {
     "data": {
      "text/html": [
       "<span style=\"border: 4px solid green; background-color: hsla(129, 100%, 60%, 0.2); padding: 10px; display: inline-block\"><div class=\"dni-plaintext\">-5</div></span>\r\n"
      ]
     },
     "metadata": {},
     "output_type": "display_data"
    }
   ],
   "source": [
    "using System.Net;\n",
    "\n",
    "IntExtensions.Parse(\"-5\")\n",
    "\t.DisplayPipe()\n",
    "\t.OrMap(value => HttpStatusCode.BadRequest)"
   ]
  },
  {
   "cell_type": "code",
   "execution_count": null,
   "metadata": {
    "dotnet_interactive": {
     "language": "csharp"
    },
    "vscode": {
     "languageId": "dotnet-interactive.csharp"
    }
   },
   "outputs": [
    {
     "data": {
      "text/html": [
       "<span style=\"border: 4px solid red; background-color: hsla(208, 100%, 60%, 0.2); padding: 10px; display: inline-block\">wrong format</span>\r\n"
      ]
     },
     "metadata": {},
     "output_type": "display_data"
    },
    {
     "data": {
      "text/html": [
       "<span style=\"border: 4px solid red; background-color: hsla(45, 100%, 60%, 0.2); padding: 10px; display: inline-block\"><span>BadRequest</span></span>\r\n"
      ]
     },
     "metadata": {},
     "output_type": "display_data"
    }
   ],
   "source": [
    "IntExtensions.Parse(\"qwerty\")\n",
    "\t.DisplayPipe()\n",
    "\t.OrMap(value => HttpStatusCode.BadRequest)"
   ]
  },
  {
   "cell_type": "markdown",
   "metadata": {},
   "source": [
    "`Result` is also a monad, so it provides `Bind` methods to safely map a value with a function, producing another `Result`, possibly with another value type. Also, there are methods `OrMap` to map a failure with a function."
   ]
  },
  {
   "cell_type": "code",
   "execution_count": null,
   "metadata": {
    "dotnet_interactive": {
     "language": "csharp"
    },
    "vscode": {
     "languageId": "dotnet-interactive.csharp"
    }
   },
   "outputs": [
    {
     "data": {
      "text/html": [
       "<span style=\"border: 4px solid green; background-color: hsla(129, 100%, 60%, 0.2); padding: 10px; display: inline-block\"><div class=\"dni-plaintext\">-5</div></span>\r\n"
      ]
     },
     "metadata": {},
     "output_type": "display_data"
    },
    {
     "data": {
      "text/html": [
       "<span style=\"border: 4px solid green; background-color: hsla(129, 100%, 60%, 0.2); padding: 10px; display: inline-block\"><div class=\"dni-plaintext\">-40</div></span>\r\n"
      ]
     },
     "metadata": {},
     "output_type": "display_data"
    }
   ],
   "source": [
    "public Result<int, string> Divide(int numerator, int denominator)\n",
    "{\n",
    "\treturn denominator switch\n",
    "\t{\n",
    "\t\t0 => \"division by zero\",\n",
    "\t\tvar notZero => numerator / notZero\n",
    "\t};\n",
    "}\n",
    "\n",
    "IntExtensions.Parse(\"-5\")\n",
    "\t.DisplayPipe()\n",
    "\t.Bind(value => Divide(200, value))\n"
   ]
  },
  {
   "cell_type": "code",
   "execution_count": null,
   "metadata": {
    "dotnet_interactive": {
     "language": "csharp"
    },
    "vscode": {
     "languageId": "dotnet-interactive.csharp"
    }
   },
   "outputs": [
    {
     "data": {
      "text/html": [
       "<span style=\"border: 4px solid red; background-color: hsla(208, 100%, 60%, 0.2); padding: 10px; display: inline-block\">wrong format</span>\r\n"
      ]
     },
     "metadata": {},
     "output_type": "display_data"
    },
    {
     "data": {
      "text/html": [
       "<span style=\"border: 4px solid red; background-color: hsla(208, 100%, 60%, 0.2); padding: 10px; display: inline-block\">wrong format</span>\r\n"
      ]
     },
     "metadata": {},
     "output_type": "display_data"
    }
   ],
   "source": [
    "IntExtensions.Parse(\"qwerty\")\n",
    ".DisplayPipe()\n",
    ".Bind(value => Divide(200, value))"
   ]
  },
  {
   "cell_type": "code",
   "execution_count": null,
   "metadata": {
    "dotnet_interactive": {
     "language": "csharp"
    },
    "vscode": {
     "languageId": "dotnet-interactive.csharp"
    }
   },
   "outputs": [
    {
     "data": {
      "text/html": [
       "<span style=\"border: 4px solid green; background-color: hsla(129, 100%, 60%, 0.2); padding: 10px; display: inline-block\"><div class=\"dni-plaintext\">0</div></span>\r\n"
      ]
     },
     "metadata": {},
     "output_type": "display_data"
    },
    {
     "data": {
      "text/html": [
       "<span style=\"border: 4px solid red; background-color: hsla(208, 100%, 60%, 0.2); padding: 10px; display: inline-block\">division by zero</span>\r\n"
      ]
     },
     "metadata": {},
     "output_type": "display_data"
    }
   ],
   "source": [
    "IntExtensions.Parse(\"0\")\n",
    ".DisplayPipe()\n",
    ".Bind(value => Divide(200, value))"
   ]
  },
  {
   "cell_type": "markdown",
   "metadata": {},
   "source": [
    "The same and more is achievable using LINQ do-notation"
   ]
  },
  {
   "cell_type": "code",
   "execution_count": null,
   "metadata": {
    "dotnet_interactive": {
     "language": "csharp"
    },
    "vscode": {
     "languageId": "dotnet-interactive.csharp"
    }
   },
   "outputs": [
    {
     "data": {
      "text/html": [
       "<span style=\"border: 4px solid red; background-color: hsla(208, 100%, 60%, 0.2); padding: 10px; display: inline-block\">wrong format</span>\r\n"
      ]
     },
     "metadata": {},
     "output_type": "display_data"
    },
    {
     "data": {
      "text/html": [
       "<span style=\"border: 4px solid red; background-color: hsla(208, 100%, 60%, 0.2); padding: 10px; display: inline-block\">wrong format</span>\r\n"
      ]
     },
     "metadata": {},
     "output_type": "display_data"
    }
   ],
   "source": [
    "from value1 in IntExtensions.Parse(\"qwerty\").DisplayPipe()\n",
    "from value2 in IntExtensions.Parse(\"320\").DisplayPipe()\n",
    "from factor in Divide(value1, value2).DisplayPipe()\n",
    "select factor"
   ]
  },
  {
   "cell_type": "code",
   "execution_count": null,
   "metadata": {
    "dotnet_interactive": {
     "language": "csharp"
    },
    "vscode": {
     "languageId": "dotnet-interactive.csharp"
    }
   },
   "outputs": [
    {
     "data": {
      "text/html": [
       "<span style=\"border: 4px solid green; background-color: hsla(129, 100%, 60%, 0.2); padding: 10px; display: inline-block\"><div class=\"dni-plaintext\">35</div></span>\r\n"
      ]
     },
     "metadata": {},
     "output_type": "display_data"
    },
    {
     "data": {
      "text/html": [
       "<span style=\"border: 4px solid green; background-color: hsla(129, 100%, 60%, 0.2); padding: 10px; display: inline-block\"><div class=\"dni-plaintext\">0</div></span>\r\n"
      ]
     },
     "metadata": {},
     "output_type": "display_data"
    },
    {
     "data": {
      "text/html": [
       "<span style=\"border: 4px solid red; background-color: hsla(208, 100%, 60%, 0.2); padding: 10px; display: inline-block\">division by zero</span>\r\n"
      ]
     },
     "metadata": {},
     "output_type": "display_data"
    }
   ],
   "source": [
    "from value1 in IntExtensions.Parse(\"35\").DisplayPipe()\n",
    "from value2 in IntExtensions.Parse(\"0\").DisplayPipe()\n",
    "from factor in Divide(value1, value2)\n",
    "select factor"
   ]
  },
  {
   "cell_type": "code",
   "execution_count": null,
   "metadata": {
    "vscode": {
     "languageId": "dotnet-interactive.csharp"
    }
   },
   "outputs": [
    {
     "data": {
      "text/html": [
       "<span style=\"border: 4px solid green; background-color: hsla(129, 100%, 60%, 0.2); padding: 10px; display: inline-block\"><div class=\"dni-plaintext\">35</div></span>\r\n"
      ]
     },
     "metadata": {},
     "output_type": "display_data"
    },
    {
     "data": {
      "text/html": [
       "<span style=\"border: 4px solid green; background-color: hsla(129, 100%, 60%, 0.2); padding: 10px; display: inline-block\"><div class=\"dni-plaintext\">10</div></span>\r\n"
      ]
     },
     "metadata": {},
     "output_type": "display_data"
    },
    {
     "data": {
      "text/html": [
       "<span style=\"border: 4px solid green; background-color: hsla(129, 100%, 60%, 0.2); padding: 10px; display: inline-block\"><div class=\"dni-plaintext\">3</div></span>\r\n"
      ]
     },
     "metadata": {},
     "output_type": "display_data"
    }
   ],
   "source": [
    "from value1 in IntExtensions.Parse(\"35\").DisplayPipe()\n",
    "from value2 in IntExtensions.Parse(\"10\").DisplayPipe()\n",
    "from factor in Divide(value1, value2)\n",
    "select factor"
   ]
  }
 ],
 "metadata": {
  "kernelspec": {
   "display_name": ".NET (C#)",
   "language": "C#",
   "name": ".net-csharp"
  },
  "language_info": {
   "file_extension": ".cs",
   "mimetype": "text/x-csharp",
   "name": "C#",
   "pygments_lexer": "csharp",
   "version": "9.0"
  },
  "orig_nbformat": 4
 },
 "nbformat": 4,
 "nbformat_minor": 2
}

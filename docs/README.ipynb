{
 "cells": [
  {
   "cell_type": "markdown",
   "metadata": {
    "dotnet_interactive": {
     "language": "csharp"
    }
   },
   "source": [
    "# Result\n",
    "\n",
    "Yet another `Result` monad implementation, yet with some unconventional features."
   ]
  },
  {
   "cell_type": "code",
   "execution_count": null,
   "metadata": {
    "dotnet_interactive": {
     "language": "csharp"
    },
    "vscode": {
     "languageId": "dotnet-interactive.csharp"
    }
   },
   "outputs": [],
   "source": [
    "#i nuget:C:\\Workspace\\result\\src\\result.Interactive\\bin\\Release"
   ]
  },
  {
   "cell_type": "code",
   "execution_count": null,
   "metadata": {
    "dotnet_interactive": {
     "language": "csharp"
    },
    "vscode": {
     "languageId": "dotnet-interactive.csharp"
    }
   },
   "outputs": [
    {
     "data": {
      "text/html": [
       "<div><div><strong>Restore sources</strong><ul><li><span>C:\\Workspace\\result\\src\\result.Interactive\\bin\\Release</span></li></ul></div><div></div><div><strong>Installed Packages</strong><ul><li><span>mazharenko.result, 0.2.0</span></li><li><span>mazharenko.result.Interactive, 0.2.1</span></li></ul></div></div>"
      ]
     },
     "metadata": {},
     "output_type": "display_data"
    }
   ],
   "source": [
    "#r \"nuget: mazharenko.result, 0.2.0\"\n",
    "#r \"nuget: mazharenko.result.Interactive, 0.2.1\"\n",
    "\n",
    "using mazharenko.result;"
   ]
  },
  {
   "cell_type": "markdown",
   "metadata": {},
   "source": [
    "## Wrapping\n",
    "\n",
    "There is a variety of ways to instantiate both successful and failed results depending on the context. "
   ]
  },
  {
   "cell_type": "code",
   "execution_count": null,
   "metadata": {
    "dotnet_interactive": {
     "language": "csharp"
    },
    "vscode": {
     "languageId": "dotnet-interactive.csharp"
    }
   },
   "outputs": [
    {
     "data": {
      "text/html": [
       "<span style=\"border: 4px solid green; padding: 10px; display: inline-block\"><div class=\"dni-plaintext\">42</div></span>\r\n"
      ]
     },
     "metadata": {},
     "output_type": "display_data"
    },
    {
     "data": {
      "text/html": [
       "<span style=\"border: 4px solid red; padding: 10px; display: inline-block\">something went wrong</span>\r\n"
      ]
     },
     "metadata": {},
     "output_type": "display_data"
    }
   ],
   "source": [
    "Result<int, string>.Success(42).Display();\n",
    "Result<int, string>.Failure(\"something went wrong\").Display();"
   ]
  },
  {
   "cell_type": "code",
   "execution_count": null,
   "metadata": {
    "dotnet_interactive": {
     "language": "csharp"
    },
    "vscode": {
     "languageId": "dotnet-interactive.csharp"
    }
   },
   "outputs": [
    {
     "data": {
      "text/html": [
       "<span style=\"border: 4px solid green; padding: 10px; display: inline-block\"><div class=\"dni-plaintext\">42</div></span>\r\n"
      ]
     },
     "metadata": {},
     "output_type": "display_data"
    },
    {
     "data": {
      "text/html": [
       "<span style=\"border: 4px solid red; padding: 10px; display: inline-block\">something went wrong</span>\r\n"
      ]
     },
     "metadata": {},
     "output_type": "display_data"
    }
   ],
   "source": [
    "Result.From(true, 42, \"something went wrong\").Display();\n",
    "Result.From(false, 42, \"something went wrong\").Display();"
   ]
  },
  {
   "cell_type": "markdown",
   "metadata": {},
   "source": [
    "The most used way though is to rely on implicit cast operators. When a method is declared to return a specific `Result<,>` type and the type arguments are different, the developer can return these types instead"
   ]
  },
  {
   "cell_type": "code",
   "execution_count": null,
   "metadata": {
    "dotnet_interactive": {
     "language": "csharp"
    },
    "vscode": {
     "languageId": "dotnet-interactive.csharp"
    }
   },
   "outputs": [
    {
     "data": {
      "text/html": [
       "<span style=\"border: 4px solid green; padding: 10px; display: inline-block\"><div class=\"dni-plaintext\">42</div></span>\r\n"
      ]
     },
     "metadata": {},
     "output_type": "display_data"
    },
    {
     "data": {
      "text/html": [
       "<span style=\"border: 4px solid red; padding: 10px; display: inline-block\">something went wrong</span>\r\n"
      ]
     },
     "metadata": {},
     "output_type": "display_data"
    }
   ],
   "source": [
    "Result<int, string> Method(bool success) {\n",
    "\treturn success ? 42 : \"something went wrong\";\n",
    "}\n",
    "\n",
    "Method(true).Display();\n",
    "Method(false).Display();"
   ]
  },
  {
   "cell_type": "markdown",
   "metadata": {},
   "source": [
    "When dealing with `Result`s defining the same type for fail and success and for those who enjoy more explicitness, there is a couple of intermediary types which clearly say what the operation state is, but still allow not to write full generic type definitions."
   ]
  },
  {
   "cell_type": "code",
   "execution_count": null,
   "metadata": {
    "dotnet_interactive": {
     "language": "csharp"
    },
    "vscode": {
     "languageId": "dotnet-interactive.csharp"
    }
   },
   "outputs": [
    {
     "data": {
      "text/html": [
       "<span style=\"border: 4px solid green; padding: 10px; display: inline-block\"><div class=\"dni-plaintext\">42</div></span>\r\n"
      ]
     },
     "metadata": {},
     "output_type": "display_data"
    }
   ],
   "source": [
    "Result<int, string> Method(bool success) {\n",
    "\treturn success ? Result.Success(42) : Result.Failure(\"something went wrong\");\n",
    "}\n",
    "\n",
    "Method(true)"
   ]
  },
  {
   "cell_type": "code",
   "execution_count": null,
   "metadata": {
    "dotnet_interactive": {
     "language": "csharp"
    },
    "vscode": {
     "languageId": "dotnet-interactive.csharp"
    }
   },
   "outputs": [
    {
     "data": {
      "text/html": [
       "<span style=\"border: 4px solid red; padding: 10px; display: inline-block\">something went wrong</span>\r\n"
      ]
     },
     "metadata": {},
     "output_type": "display_data"
    }
   ],
   "source": [
    "Method(false)"
   ]
  },
  {
   "cell_type": "markdown",
   "metadata": {},
   "source": [
    "## Unwrapping\n",
    "\n",
    "The most basic way to process data stored in the `Result` container is the `Match` method. It forces to specify how we want to process a failure. There are overloads accepting values, actions, functions, tasks."
   ]
  },
  {
   "cell_type": "code",
   "execution_count": null,
   "metadata": {
    "dotnet_interactive": {
     "language": "csharp"
    },
    "vscode": {
     "languageId": "dotnet-interactive.csharp"
    }
   },
   "outputs": [
    {
     "data": {
      "text/html": [
       "<span style=\"border: 4px solid green; padding: 10px; display: inline-block\"><div class=\"dni-plaintext\">42</div></span>\r\n"
      ]
     },
     "metadata": {},
     "output_type": "display_data"
    },
    {
     "data": {
      "text/plain": [
       "value 42"
      ]
     },
     "metadata": {},
     "output_type": "display_data"
    }
   ],
   "source": [
    "Result<int, string> success = 42;\n",
    "Result<int, string> error = \"something went wrong\";\n",
    "\n",
    "success.DisplayPipe()\n",
    "\t.Match(value => $\"value {value}\", er => \"no value\")"
   ]
  },
  {
   "cell_type": "code",
   "execution_count": null,
   "metadata": {
    "dotnet_interactive": {
     "language": "csharp"
    },
    "vscode": {
     "languageId": "dotnet-interactive.csharp"
    }
   },
   "outputs": [
    {
     "data": {
      "text/html": [
       "<span style=\"border: 4px solid red; padding: 10px; display: inline-block\">something went wrong</span>\r\n"
      ]
     },
     "metadata": {},
     "output_type": "display_data"
    },
    {
     "data": {
      "text/plain": [
       "no value"
      ]
     },
     "metadata": {},
     "output_type": "display_data"
    }
   ],
   "source": [
    "\n",
    "error.DisplayPipe()\n",
    "\t.Match(value => $\"value {value}\", er => \"no value\")"
   ]
  },
  {
   "cell_type": "markdown",
   "metadata": {},
   "source": [
    "The imperative way to extract values from a `Result`, which can be handy in some circumstances, is using a set of `TryGet` methods. Compiler then provides *some* assistance on when one can use which variables, but the approach has some limitations, and thus is not recommended."
   ]
  },
  {
   "cell_type": "code",
   "execution_count": null,
   "metadata": {
    "dotnet_interactive": {
     "language": "csharp"
    },
    "vscode": {
     "languageId": "dotnet-interactive.csharp"
    }
   },
   "outputs": [
    {
     "data": {
      "text/html": [
       "<span style=\"border: 4px solid green; padding: 10px; display: inline-block\">42</span>\r\n"
      ]
     },
     "metadata": {},
     "output_type": "display_data"
    },
    {
     "data": {
      "text/plain": [
       "42"
      ]
     },
     "metadata": {},
     "output_type": "display_data"
    }
   ],
   "source": [
    "Result<string, string> result = Result.Success(\"42\");\n",
    "\n",
    "result.Display();\n",
    "\n",
    "if (result.TryGet(out var value, out var failure))\n",
    "{\n",
    "\tvalue.Display();\n",
    "\t//failure.Display(); // would produce a warning at compile time and <null> at runtime\n",
    "}\n",
    "else\n",
    "{\n",
    "\t//value.Display(); // would produce a warning at compile time and <null> at runtime\n",
    "\tfailure.Display();\n",
    "}"
   ]
  }
 ],
 "metadata": {
  "kernelspec": {
   "display_name": ".NET (C#)",
   "language": "C#",
   "name": ".net-csharp"
  },
  "language_info": {
   "file_extension": ".cs",
   "mimetype": "text/x-csharp",
   "name": "C#",
   "pygments_lexer": "csharp",
   "version": "9.0"
  },
  "orig_nbformat": 4
 },
 "nbformat": 4,
 "nbformat_minor": 2
}

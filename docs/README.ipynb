{
 "cells": [
  {
   "cell_type": "markdown",
   "metadata": {
    "dotnet_interactive": {
     "language": "csharp"
    }
   },
   "source": [
    "# Result\n",
    "\n",
    "Yet another `Result` monad implementation, yet with some unconventional features.\n",
    "\n",
    "## Table of contents\n",
    "\n",
    "1. [Wrapping](#wrapping)\n",
    "2. [Unwrapping](#unwrapping)\n",
    "3. [Monadic staff](#monadic)\n",
    "4. [Combining](#combining)"
   ]
  },
  {
   "cell_type": "code",
   "execution_count": null,
   "metadata": {
    "dotnet_interactive": {
     "language": "csharp"
    },
    "vscode": {
     "languageId": "dotnet-interactive.csharp"
    }
   },
   "outputs": [
    {
     "data": {
      "text/html": [
       "<div><div></div><div></div><div><strong>Installed Packages</strong><ul><li><span>mazharenko.result, 1.0.0</span></li><li><span>mazharenko.result.Interactive, 1.0.0-beta</span></li></ul></div></div>"
      ]
     },
     "metadata": {},
     "output_type": "display_data"
    },
    {
     "data": {
      "text/markdown": [
       "Loading extensions from `result.Interactive.dll`"
      ]
     },
     "metadata": {},
     "output_type": "display_data"
    }
   ],
   "source": [
    "#r \"nuget: mazharenko.result, 1.0.0\"\n",
    "#r \"nuget: mazharenko.result.Interactive, 1.0.0-beta\"\n",
    "\n",
    "using mazharenko.result;"
   ]
  },
  {
   "cell_type": "markdown",
   "metadata": {},
   "source": [
    "## Wrapping <a name=\"wrapping\"></a>\n",
    "\n",
    "There is a variety of ways to instantiate both successful and failed results depending on the context. "
   ]
  },
  {
   "cell_type": "code",
   "execution_count": null,
   "metadata": {
    "dotnet_interactive": {
     "language": "csharp"
    },
    "vscode": {
     "languageId": "dotnet-interactive.csharp"
    }
   },
   "outputs": [
    {
     "data": {
      "text/html": [
       "<span style=\"border: 4px solid green; background-color: hsla(129, 100%, 60%, 0.2); white-space: pre-line;padding: 10px; display: inline-block\"><div class=\"dni-plaintext\">42</div></span>\r\n"
      ]
     },
     "metadata": {},
     "output_type": "display_data"
    },
    {
     "data": {
      "text/html": [
       "<span style=\"border: 4px solid red; background-color: hsla(208, 100%, 60%, 0.2); white-space: pre-line;padding: 10px; display: inline-block\">something went wrong</span>\r\n"
      ]
     },
     "metadata": {},
     "output_type": "display_data"
    }
   ],
   "source": [
    "Result<int, string>.Success(42).Display();\n",
    "Result<int, string>.Failure(\"something went wrong\").Display();"
   ]
  },
  {
   "cell_type": "code",
   "execution_count": null,
   "metadata": {
    "dotnet_interactive": {
     "language": "csharp"
    },
    "vscode": {
     "languageId": "dotnet-interactive.csharp"
    }
   },
   "outputs": [
    {
     "data": {
      "text/html": [
       "<span style=\"border: 4px solid green; background-color: hsla(129, 100%, 60%, 0.2); white-space: pre-line;padding: 10px; display: inline-block\"><div class=\"dni-plaintext\">42</div></span>\r\n"
      ]
     },
     "metadata": {},
     "output_type": "display_data"
    },
    {
     "data": {
      "text/html": [
       "<span style=\"border: 4px solid red; background-color: hsla(208, 100%, 60%, 0.2); white-space: pre-line;padding: 10px; display: inline-block\">something went wrong</span>\r\n"
      ]
     },
     "metadata": {},
     "output_type": "display_data"
    }
   ],
   "source": [
    "Result.From(true, 42, \"something went wrong\").Display();\n",
    "Result.From(false, 42, \"something went wrong\").Display();"
   ]
  },
  {
   "cell_type": "markdown",
   "metadata": {},
   "source": [
    "The most used way though is to rely on implicit cast operators. When a method is declared to return a specific `Result<,>` type and the type arguments are different, the developer can return these types instead"
   ]
  },
  {
   "cell_type": "code",
   "execution_count": null,
   "metadata": {
    "dotnet_interactive": {
     "language": "csharp"
    },
    "vscode": {
     "languageId": "dotnet-interactive.csharp"
    }
   },
   "outputs": [
    {
     "data": {
      "text/html": [
       "<span style=\"border: 4px solid green; background-color: hsla(129, 100%, 60%, 0.2); white-space: pre-line;padding: 10px; display: inline-block\"><div class=\"dni-plaintext\">42</div></span>\r\n"
      ]
     },
     "metadata": {},
     "output_type": "display_data"
    },
    {
     "data": {
      "text/html": [
       "<span style=\"border: 4px solid red; background-color: hsla(208, 100%, 60%, 0.2); white-space: pre-line;padding: 10px; display: inline-block\">something went wrong</span>\r\n"
      ]
     },
     "metadata": {},
     "output_type": "display_data"
    }
   ],
   "source": [
    "Result<int, string> Method(bool success) {\n",
    "\treturn success ? 42 : \"something went wrong\";\n",
    "}\n",
    "\n",
    "Method(true).Display();\n",
    "Method(false).Display();"
   ]
  },
  {
   "cell_type": "markdown",
   "metadata": {},
   "source": [
    "When dealing with `Result`s defining the same type for fail and success and for those who enjoy more explicitness, there is a couple of intermediary types which clearly say what the operation state is, but still allow not to write full generic type definitions."
   ]
  },
  {
   "cell_type": "code",
   "execution_count": null,
   "metadata": {
    "dotnet_interactive": {
     "language": "csharp"
    },
    "vscode": {
     "languageId": "dotnet-interactive.csharp"
    }
   },
   "outputs": [
    {
     "data": {
      "text/html": [
       "<span style=\"border: 4px solid green; background-color: hsla(129, 100%, 60%, 0.2); white-space: pre-line;padding: 10px; display: inline-block\"><div class=\"dni-plaintext\">42</div></span>\r\n"
      ]
     },
     "metadata": {},
     "output_type": "display_data"
    }
   ],
   "source": [
    "Result<int, string> Method(bool success) {\n",
    "\treturn success ? Result.Success(42) : Result.Failure(\"something went wrong\");\n",
    "}\n",
    "\n",
    "Method(true)"
   ]
  },
  {
   "cell_type": "code",
   "execution_count": null,
   "metadata": {
    "dotnet_interactive": {
     "language": "csharp"
    },
    "vscode": {
     "languageId": "dotnet-interactive.csharp"
    }
   },
   "outputs": [
    {
     "data": {
      "text/html": [
       "<span style=\"border: 4px solid red; background-color: hsla(208, 100%, 60%, 0.2); white-space: pre-line;padding: 10px; display: inline-block\">something went wrong</span>\r\n"
      ]
     },
     "metadata": {},
     "output_type": "display_data"
    }
   ],
   "source": [
    "Method(false)"
   ]
  },
  {
   "cell_type": "markdown",
   "metadata": {},
   "source": [
    "## Unwrapping <a name=\"unwrapping\"></a>\n",
    "\n",
    "The most basic way to process data stored in the `Result` container is the `Match` method. It forces to specify how we want to process a failure. There are overloads accepting values, actions, functions, tasks."
   ]
  },
  {
   "cell_type": "code",
   "execution_count": null,
   "metadata": {
    "dotnet_interactive": {
     "language": "csharp"
    },
    "vscode": {
     "languageId": "dotnet-interactive.csharp"
    }
   },
   "outputs": [
    {
     "data": {
      "text/html": [
       "<span style=\"border: 4px solid green; background-color: hsla(129, 100%, 60%, 0.2); white-space: pre-line;padding: 10px; display: inline-block\"><div class=\"dni-plaintext\">42</div></span>\r\n"
      ]
     },
     "metadata": {},
     "output_type": "display_data"
    },
    {
     "data": {
      "text/plain": [
       "value 42"
      ]
     },
     "metadata": {},
     "output_type": "display_data"
    }
   ],
   "source": [
    "Result<int, string> success = 42;\n",
    "Result<int, string> error = \"something went wrong\";\n",
    "\n",
    "success.DisplayPipe()\n",
    "\t.Match(value => $\"value {value}\", er => \"no value\")"
   ]
  },
  {
   "cell_type": "code",
   "execution_count": null,
   "metadata": {
    "dotnet_interactive": {
     "language": "csharp"
    },
    "vscode": {
     "languageId": "dotnet-interactive.csharp"
    }
   },
   "outputs": [
    {
     "data": {
      "text/html": [
       "<span style=\"border: 4px solid red; background-color: hsla(208, 100%, 60%, 0.2); white-space: pre-line;padding: 10px; display: inline-block\">something went wrong</span>\r\n"
      ]
     },
     "metadata": {},
     "output_type": "display_data"
    },
    {
     "data": {
      "text/plain": [
       "no value"
      ]
     },
     "metadata": {},
     "output_type": "display_data"
    }
   ],
   "source": [
    "\n",
    "error.DisplayPipe()\n",
    "\t.Match(value => $\"value {value}\", er => \"no value\")"
   ]
  },
  {
   "cell_type": "markdown",
   "metadata": {},
   "source": [
    "There is a set of shortcut methods `Or`, handy when the success outcome type should not change."
   ]
  },
  {
   "cell_type": "code",
   "execution_count": null,
   "metadata": {
    "dotnet_interactive": {
     "language": "csharp"
    },
    "vscode": {
     "languageId": "dotnet-interactive.csharp"
    }
   },
   "outputs": [
    {
     "data": {
      "text/html": [
       "<span style=\"border: 4px solid red; background-color: hsla(208, 100%, 60%, 0.2); white-space: pre-line;padding: 10px; display: inline-block\">error</span>\r\n"
      ]
     },
     "metadata": {},
     "output_type": "display_data"
    },
    {
     "data": {
      "text/html": [
       "<div class=\"dni-plaintext\">-1</div>"
      ]
     },
     "metadata": {},
     "output_type": "display_data"
    }
   ],
   "source": [
    "Result<int, string>.Failure(\"error\").DisplayPipe()\n",
    "\t.Or(-1)"
   ]
  },
  {
   "cell_type": "markdown",
   "metadata": {},
   "source": [
    "The imperative way to extract values from a `Result`, which can be handy in some circumstances, is using a set of `TryGet` methods. Compiler then provides *some* assistance on when one can use which variables, but the approach has some limitations, and thus is not recommended."
   ]
  },
  {
   "cell_type": "code",
   "execution_count": null,
   "metadata": {
    "dotnet_interactive": {
     "language": "csharp"
    },
    "vscode": {
     "languageId": "dotnet-interactive.csharp"
    }
   },
   "outputs": [
    {
     "data": {
      "text/html": [
       "<span style=\"border: 4px solid green; background-color: hsla(208, 100%, 60%, 0.2); white-space: pre-line;padding: 10px; display: inline-block\">42</span>\r\n"
      ]
     },
     "metadata": {},
     "output_type": "display_data"
    },
    {
     "data": {
      "text/plain": [
       "42"
      ]
     },
     "metadata": {},
     "output_type": "display_data"
    }
   ],
   "source": [
    "Result<string, string> result = Result.Success(\"42\");\n",
    "\n",
    "result.Display();\n",
    "\n",
    "if (result.TryGet(out var value, out var failure))\n",
    "{\n",
    "\tvalue.Display();\n",
    "\t//failure.Display(); // would produce a warning at compile time and <null> at runtime\n",
    "}\n",
    "else\n",
    "{\n",
    "\t//value.Display(); // would produce a warning at compile time and <null> at runtime\n",
    "\tfailure.Display();\n",
    "}"
   ]
  },
  {
   "cell_type": "markdown",
   "metadata": {},
   "source": [
    "A collection of `Result`s can be partitioned (`Partition`) in two by the stored state or filtered with extraction (`ChooseSuccess`). For the latter failures must not be forgotten, an action to process them must be provided."
   ]
  },
  {
   "cell_type": "code",
   "execution_count": null,
   "metadata": {
    "dotnet_interactive": {
     "language": "csharp"
    },
    "vscode": {
     "languageId": "dotnet-interactive.csharp"
    }
   },
   "outputs": [
    {
     "data": {
      "text/html": [
       "<table><thead><tr><th>Item1</th><th>Item2</th></tr></thead><tbody><tr><td><div class=\"dni-plaintext\">[ 42 ]</div></td><td><div class=\"dni-plaintext\">[ something went wrong ]</div></td></tr></tbody></table>"
      ]
     },
     "metadata": {},
     "output_type": "display_data"
    }
   ],
   "source": [
    "new [] {\n",
    "\tMethod(true),\n",
    "\tMethod(false)\n",
    "}.Partition()"
   ]
  },
  {
   "cell_type": "code",
   "execution_count": null,
   "metadata": {
    "dotnet_interactive": {
     "language": "csharp"
    },
    "vscode": {
     "languageId": "dotnet-interactive.csharp"
    }
   },
   "outputs": [
    {
     "data": {
      "text/plain": [
       "something went wrong"
      ]
     },
     "metadata": {},
     "output_type": "display_data"
    },
    {
     "data": {
      "text/html": [
       "<table><thead><tr><th><i>index</i></th><th>value</th></tr></thead><tbody><tr><td>0</td><td><div class=\"dni-plaintext\">42</div></td></tr></tbody></table>"
      ]
     },
     "metadata": {},
     "output_type": "display_data"
    }
   ],
   "source": [
    "new [] {\n",
    "\tMethod(true),\n",
    "\tMethod(false)\n",
    "}.ChooseSuccess(f => f.Display())"
   ]
  },
  {
   "cell_type": "markdown",
   "metadata": {},
   "source": [
    "## Monadic stuff <a name=\"monadic\"></a>\n",
    "\n",
    "`Result` is a functor, so it provides `Map` methods to safely map a value with a function, producing another value, possibly of another type, for a new `Result`. Also, there are methods `OrMap` to map a failure with a function."
   ]
  },
  {
   "cell_type": "code",
   "execution_count": null,
   "metadata": {
    "dotnet_interactive": {
     "language": "csharp"
    },
    "vscode": {
     "languageId": "dotnet-interactive.csharp"
    }
   },
   "outputs": [
    {
     "data": {
      "text/html": [
       "<span style=\"border: 4px solid green; background-color: hsla(129, 100%, 60%, 0.2); white-space: pre-line;padding: 10px; display: inline-block\"><div class=\"dni-plaintext\">-5</div></span>\r\n"
      ]
     },
     "metadata": {},
     "output_type": "display_data"
    },
    {
     "data": {
      "text/html": [
       "<span style=\"border: 4px solid green; background-color: hsla(129, 100%, 60%, 0.2); white-space: pre-line;padding: 10px; display: inline-block\"><div class=\"dni-plaintext\">-500</div></span>\r\n"
      ]
     },
     "metadata": {},
     "output_type": "display_data"
    }
   ],
   "source": [
    "public static class IntExtensions\n",
    "{\n",
    "\tpublic static Result<int, string> Parse(string from)\n",
    "\t{\n",
    "\t\tif (int.TryParse(from, out var value))\n",
    "\t\t\treturn value;\n",
    "\t\treturn \"wrong format\";\n",
    "\t}\n",
    "}\n",
    "\n",
    "IntExtensions.Parse(\"-5\")\n",
    ".DisplayPipe()\n",
    ".Map(value => value * 100)"
   ]
  },
  {
   "cell_type": "code",
   "execution_count": null,
   "metadata": {
    "dotnet_interactive": {
     "language": "csharp"
    },
    "vscode": {
     "languageId": "dotnet-interactive.csharp"
    }
   },
   "outputs": [
    {
     "data": {
      "text/html": [
       "<span style=\"border: 4px solid red; background-color: hsla(208, 100%, 60%, 0.2); white-space: pre-line;padding: 10px; display: inline-block\">wrong format</span>\r\n"
      ]
     },
     "metadata": {},
     "output_type": "display_data"
    },
    {
     "data": {
      "text/html": [
       "<span style=\"border: 4px solid red; background-color: hsla(208, 100%, 60%, 0.2); white-space: pre-line;padding: 10px; display: inline-block\">wrong format</span>\r\n"
      ]
     },
     "metadata": {},
     "output_type": "display_data"
    }
   ],
   "source": [
    "IntExtensions.Parse(\"qwerty\")\n",
    "\t.DisplayPipe()\n",
    "\t.Map(value => value * 100)"
   ]
  },
  {
   "cell_type": "code",
   "execution_count": null,
   "metadata": {
    "dotnet_interactive": {
     "language": "csharp"
    },
    "vscode": {
     "languageId": "dotnet-interactive.csharp"
    }
   },
   "outputs": [
    {
     "data": {
      "text/html": [
       "<span style=\"border: 4px solid green; background-color: hsla(129, 100%, 60%, 0.2); white-space: pre-line;padding: 10px; display: inline-block\"><div class=\"dni-plaintext\">-5</div></span>\r\n"
      ]
     },
     "metadata": {},
     "output_type": "display_data"
    },
    {
     "data": {
      "text/html": [
       "<span style=\"border: 4px solid green; background-color: hsla(129, 100%, 60%, 0.2); white-space: pre-line;padding: 10px; display: inline-block\"><div class=\"dni-plaintext\">-5</div></span>\r\n"
      ]
     },
     "metadata": {},
     "output_type": "display_data"
    }
   ],
   "source": [
    "using System.Net;\n",
    "\n",
    "IntExtensions.Parse(\"-5\")\n",
    "\t.DisplayPipe()\n",
    "\t.OrMap(value => HttpStatusCode.BadRequest)"
   ]
  },
  {
   "cell_type": "code",
   "execution_count": null,
   "metadata": {
    "dotnet_interactive": {
     "language": "csharp"
    },
    "vscode": {
     "languageId": "dotnet-interactive.csharp"
    }
   },
   "outputs": [
    {
     "data": {
      "text/html": [
       "<span style=\"border: 4px solid red; background-color: hsla(208, 100%, 60%, 0.2); white-space: pre-line;padding: 10px; display: inline-block\">wrong format</span>\r\n"
      ]
     },
     "metadata": {},
     "output_type": "display_data"
    },
    {
     "data": {
      "text/html": [
       "<span style=\"border: 4px solid red; background-color: hsla(239, 100%, 60%, 0.2); white-space: pre-line;padding: 10px; display: inline-block\"><span>BadRequest</span></span>\r\n"
      ]
     },
     "metadata": {},
     "output_type": "display_data"
    }
   ],
   "source": [
    "IntExtensions.Parse(\"qwerty\")\n",
    "\t.DisplayPipe()\n",
    "\t.OrMap(value => HttpStatusCode.BadRequest)"
   ]
  },
  {
   "cell_type": "markdown",
   "metadata": {},
   "source": [
    "`Result` is also a monad, so it provides `Bind` methods to safely map a value with a function, producing another `Result`, possibly with another value type. Also, there are methods `OrMap` to map a failure with a function."
   ]
  },
  {
   "cell_type": "code",
   "execution_count": null,
   "metadata": {
    "dotnet_interactive": {
     "language": "csharp"
    },
    "vscode": {
     "languageId": "dotnet-interactive.csharp"
    }
   },
   "outputs": [
    {
     "data": {
      "text/html": [
       "<span style=\"border: 4px solid green; background-color: hsla(129, 100%, 60%, 0.2); white-space: pre-line;padding: 10px; display: inline-block\"><div class=\"dni-plaintext\">-5</div></span>\r\n"
      ]
     },
     "metadata": {},
     "output_type": "display_data"
    },
    {
     "data": {
      "text/html": [
       "<span style=\"border: 4px solid green; background-color: hsla(129, 100%, 60%, 0.2); white-space: pre-line;padding: 10px; display: inline-block\"><div class=\"dni-plaintext\">-40</div></span>\r\n"
      ]
     },
     "metadata": {},
     "output_type": "display_data"
    }
   ],
   "source": [
    "public Result<int, string> Divide(int numerator, int denominator)\n",
    "{\n",
    "\treturn denominator switch\n",
    "\t{\n",
    "\t\t0 => \"division by zero\",\n",
    "\t\tvar notZero => numerator / notZero\n",
    "\t};\n",
    "}\n",
    "\n",
    "IntExtensions.Parse(\"-5\")\n",
    "\t.DisplayPipe()\n",
    "\t.Bind(value => Divide(200, value))\n"
   ]
  },
  {
   "cell_type": "code",
   "execution_count": null,
   "metadata": {
    "dotnet_interactive": {
     "language": "csharp"
    },
    "vscode": {
     "languageId": "dotnet-interactive.csharp"
    }
   },
   "outputs": [
    {
     "data": {
      "text/html": [
       "<span style=\"border: 4px solid red; background-color: hsla(208, 100%, 60%, 0.2); white-space: pre-line;padding: 10px; display: inline-block\">wrong format</span>\r\n"
      ]
     },
     "metadata": {},
     "output_type": "display_data"
    },
    {
     "data": {
      "text/html": [
       "<span style=\"border: 4px solid red; background-color: hsla(208, 100%, 60%, 0.2); white-space: pre-line;padding: 10px; display: inline-block\">wrong format</span>\r\n"
      ]
     },
     "metadata": {},
     "output_type": "display_data"
    }
   ],
   "source": [
    "IntExtensions.Parse(\"qwerty\")\n",
    ".DisplayPipe()\n",
    ".Bind(value => Divide(200, value))"
   ]
  },
  {
   "cell_type": "code",
   "execution_count": null,
   "metadata": {
    "dotnet_interactive": {
     "language": "csharp"
    },
    "vscode": {
     "languageId": "dotnet-interactive.csharp"
    }
   },
   "outputs": [
    {
     "data": {
      "text/html": [
       "<span style=\"border: 4px solid green; background-color: hsla(129, 100%, 60%, 0.2); white-space: pre-line;padding: 10px; display: inline-block\"><div class=\"dni-plaintext\">0</div></span>\r\n"
      ]
     },
     "metadata": {},
     "output_type": "display_data"
    },
    {
     "data": {
      "text/html": [
       "<span style=\"border: 4px solid red; background-color: hsla(208, 100%, 60%, 0.2); white-space: pre-line;padding: 10px; display: inline-block\">division by zero</span>\r\n"
      ]
     },
     "metadata": {},
     "output_type": "display_data"
    }
   ],
   "source": [
    "IntExtensions.Parse(\"0\")\n",
    ".DisplayPipe()\n",
    ".Bind(value => Divide(200, value))"
   ]
  },
  {
   "cell_type": "markdown",
   "metadata": {},
   "source": [
    "The same and more is achievable using LINQ do-notation"
   ]
  },
  {
   "cell_type": "code",
   "execution_count": null,
   "metadata": {
    "dotnet_interactive": {
     "language": "csharp"
    },
    "vscode": {
     "languageId": "dotnet-interactive.csharp"
    }
   },
   "outputs": [
    {
     "data": {
      "text/html": [
       "<span style=\"border: 4px solid red; background-color: hsla(208, 100%, 60%, 0.2); white-space: pre-line;padding: 10px; display: inline-block\">wrong format</span>\r\n"
      ]
     },
     "metadata": {},
     "output_type": "display_data"
    },
    {
     "data": {
      "text/html": [
       "<span style=\"border: 4px solid red; background-color: hsla(208, 100%, 60%, 0.2); white-space: pre-line;padding: 10px; display: inline-block\">wrong format</span>\r\n"
      ]
     },
     "metadata": {},
     "output_type": "display_data"
    }
   ],
   "source": [
    "from value1 in IntExtensions.Parse(\"qwerty\").DisplayPipe()\n",
    "from value2 in IntExtensions.Parse(\"320\").DisplayPipe()\n",
    "from factor in Divide(value1, value2).DisplayPipe()\n",
    "select factor"
   ]
  },
  {
   "cell_type": "code",
   "execution_count": null,
   "metadata": {
    "dotnet_interactive": {
     "language": "csharp"
    },
    "vscode": {
     "languageId": "dotnet-interactive.csharp"
    }
   },
   "outputs": [
    {
     "data": {
      "text/html": [
       "<span style=\"border: 4px solid green; background-color: hsla(129, 100%, 60%, 0.2); white-space: pre-line;padding: 10px; display: inline-block\"><div class=\"dni-plaintext\">35</div></span>\r\n"
      ]
     },
     "metadata": {},
     "output_type": "display_data"
    },
    {
     "data": {
      "text/html": [
       "<span style=\"border: 4px solid green; background-color: hsla(129, 100%, 60%, 0.2); white-space: pre-line;padding: 10px; display: inline-block\"><div class=\"dni-plaintext\">0</div></span>\r\n"
      ]
     },
     "metadata": {},
     "output_type": "display_data"
    },
    {
     "data": {
      "text/html": [
       "<span style=\"border: 4px solid red; background-color: hsla(208, 100%, 60%, 0.2); white-space: pre-line;padding: 10px; display: inline-block\">division by zero</span>\r\n"
      ]
     },
     "metadata": {},
     "output_type": "display_data"
    }
   ],
   "source": [
    "from value1 in IntExtensions.Parse(\"35\").DisplayPipe()\n",
    "from value2 in IntExtensions.Parse(\"0\").DisplayPipe()\n",
    "from factor in Divide(value1, value2)\n",
    "select factor"
   ]
  },
  {
   "cell_type": "code",
   "execution_count": null,
   "metadata": {
    "vscode": {
     "languageId": "dotnet-interactive.csharp"
    }
   },
   "outputs": [
    {
     "data": {
      "text/html": [
       "<span style=\"border: 4px solid green; background-color: hsla(129, 100%, 60%, 0.2); white-space: pre-line;padding: 10px; display: inline-block\"><div class=\"dni-plaintext\">35</div></span>\r\n"
      ]
     },
     "metadata": {},
     "output_type": "display_data"
    },
    {
     "data": {
      "text/html": [
       "<span style=\"border: 4px solid green; background-color: hsla(129, 100%, 60%, 0.2); white-space: pre-line;padding: 10px; display: inline-block\"><div class=\"dni-plaintext\">10</div></span>\r\n"
      ]
     },
     "metadata": {},
     "output_type": "display_data"
    },
    {
     "data": {
      "text/html": [
       "<span style=\"border: 4px solid green; background-color: hsla(129, 100%, 60%, 0.2); white-space: pre-line;padding: 10px; display: inline-block\"><div class=\"dni-plaintext\">3</div></span>\r\n"
      ]
     },
     "metadata": {},
     "output_type": "display_data"
    }
   ],
   "source": [
    "from value1 in IntExtensions.Parse(\"35\").DisplayPipe()\n",
    "from value2 in IntExtensions.Parse(\"10\").DisplayPipe()\n",
    "from factor in Divide(value1, value2)\n",
    "select factor"
   ]
  },
  {
   "cell_type": "markdown",
   "metadata": {},
   "source": [
    "## Combining <a name=\"combining\"></a>\n",
    "\n",
    "### Error tree\n",
    "\n",
    "When a certain operation depends on two other, each of which can produce failed results, we might want to return the combination of them. Here comes the concept of `Errors`. "
   ]
  },
  {
   "cell_type": "code",
   "execution_count": null,
   "metadata": {
    "dotnet_interactive": {
     "language": "csharp"
    },
    "vscode": {
     "languageId": "dotnet-interactive.csharp"
    }
   },
   "outputs": [
    {
     "data": {
      "text/html": [
       "<div><div></div><div></div><div><strong>Installed Packages</strong><ul><li><span>Microsoft.DotNet.Interactive.ExtensionLab, 1.0.0-beta.22314.1</span></li></ul></div></div>"
      ]
     },
     "metadata": {},
     "output_type": "display_data"
    },
    {
     "data": {
      "text/markdown": [
       "Loading extensions from `Microsoft.DotNet.Interactive.ExtensionLab.dll`"
      ]
     },
     "metadata": {},
     "output_type": "display_data"
    },
    {
     "data": {
      "text/html": [
       "<details><summary>Create strongly-typed dataframes using<code>#!linqify</code>.</summary>\r\n",
       "    <p>The <code>#!linqify</code> magic command replaces a <a href=\"https://www.nuget.org/packages/Microsoft.Data.Analysis/\"><code>Microsoft.Data.Analysis.DataFrame</code></a> variable with a generated, strongly-typed data frame, allowing the use of LINQ operations over the contained data.</p>\r\n",
       "    </details>"
      ]
     },
     "metadata": {},
     "output_type": "display_data"
    },
    {
     "data": {
      "text/html": [
       "<details><summary>Inspect code compilation details using the <code>#!inspect</code> magic command.</summary>\r\n",
       "    <p>The <code>#!inspect</code> magic command allows you to see the C# decompilation, IL, and JIT Asm for the code in a C# cell.</p>\r\n",
       "    <img src=\"https://user-images.githubusercontent.com/547415/109560515-d5749a00-7a90-11eb-9fa3-51b737345bb4.png\" width=\"75%\" />\r\n",
       "    </details>"
      ]
     },
     "metadata": {},
     "output_type": "display_data"
    },
    {
     "data": {
      "text/html": [
       "<details><summary>Use the <code>#!record</code> magic command to keep a transcript of the code you run.</summary>\r\n",
       "    <p>Once you enable transcripts using <code>#!record</code>, each code submission (including re-running cells) is recorded in the specified file. The JSON format used is the same format recognized by the .NET Interactive <code>stdio</code> and <code>http</code> APIs and can be used to replay an interactive session via automation.</p>\r\n",
       "    <img src=\"https://user-images.githubusercontent.com/547415/109562409-343b1300-7a93-11eb-8ebf-79bb6af028cf.png\" width=\"75%\" />\r\n",
       "    </details>"
      ]
     },
     "metadata": {},
     "output_type": "display_data"
    },
    {
     "data": {
      "text/html": [
       "<details><summary>Query SQLite databases.</summary>\r\n",
       "    <p>This extension adds support for connecting to SQLite databases using the <code>#!connect sqlite</code> magic command. For more information, run a cell using the <code>#!sql</code> magic command.</p>\r\n",
       "    </details>"
      ]
     },
     "metadata": {},
     "output_type": "display_data"
    },
    {
     "data": {
      "text/markdown": [
       "Loading extensions from `Microsoft.Data.Analysis.Interactive.dll`"
      ]
     },
     "metadata": {},
     "output_type": "display_data"
    }
   ],
   "source": [
    "#r \"nuget: Microsoft.DotNet.Interactive.ExtensionLab,1.0.0-beta.22314.1\""
   ]
  },
  {
   "cell_type": "code",
   "execution_count": null,
   "metadata": {
    "dotnet_interactive": {
     "language": "mermaid"
    },
    "vscode": {
     "languageId": "dotnet-interactive.mermaid"
    }
   },
   "outputs": [
    {
     "data": {
      "text/html": [
       "<div class=\"mermaidMarkdownContainer\" style=\"background-color:white\">\r\n",
       "<script type=\"text/javascript\">\r\n",
       "\r\n",
       "loadMermaid_ddf5ea42848f464b98c0820531fb59d0 = () => {\r\n",
       " \r\n",
       "        (require.config({ 'paths': { 'context': '9.1.1', 'mermaidUri' : 'https://cdn.jsdelivr.net/npm/mermaid@9.1.1/dist/mermaid.min', 'urlArgs': 'cacheBuster=b5627142f98142979a898a7985eba78b' }}) || require)(['mermaidUri'], (mermaid) => {\r\n",
       "\r\n",
       "            let renderTarget = document.getElementById('ddf5ea42848f464b98c0820531fb59d0');\r\n",
       "            mermaid.mermaidAPI.render( \r\n",
       "                'mermaid_ddf5ea42848f464b98c0820531fb59d0', \r\n",
       "                `graph BT;\n",
       "\tB[Method 1]-->A[Root];\n",
       "\tC[Method 2]:::success-->B;\n",
       "\tD[Method 3]:::failure-->B;\n",
       "\tE[Method 4]:::failure-->B;\n",
       "\tF[Method 5]:::failure-->A\n",
       "\tclassDef failure stroke:red,stroke-width:4px\n",
       "\tclassDef success stroke:green,stroke-width:4px`, \r\n",
       "                g => {\r\n",
       "                    renderTarget.innerHTML = g \r\n",
       "                });\r\n",
       "        },\r\n",
       "        (error) => {\r\n",
       "            console.log(error);\r\n",
       "        });\r\n",
       "}\r\n",
       "// ensure `require` is available globally\r\n",
       "if ((typeof(require) !==  typeof(Function)) || (typeof(require.config) !== typeof(Function))) {\r\n",
       "    let require_script = document.createElement('script');\r\n",
       "    require_script.setAttribute('src', 'https://cdnjs.cloudflare.com/ajax/libs/require.js/2.3.6/require.min.js');\r\n",
       "    require_script.setAttribute('type', 'text/javascript');\r\n",
       "    \r\n",
       "    \r\n",
       "    require_script.onload = function() {\r\n",
       "        loadMermaid_ddf5ea42848f464b98c0820531fb59d0();\r\n",
       "    };\r\n",
       "\r\n",
       "    document.getElementsByTagName('head')[0].appendChild(require_script);\r\n",
       "}\r\n",
       "else {\r\n",
       "    loadMermaid_ddf5ea42848f464b98c0820531fb59d0();\r\n",
       "}\r\n",
       "\r\n",
       "</script>\r\n",
       "<div id=\"ddf5ea42848f464b98c0820531fb59d0\"></div>\r\n",
       "</div>\r\n"
      ]
     },
     "metadata": {},
     "output_type": "display_data"
    }
   ],
   "source": [
    "graph BT;\n",
    "\tB[Method 1]-->A[Root];\n",
    "\tC[Method 2]:::success-->B;\n",
    "\tD[Method 3]:::failure-->B;\n",
    "\tE[Method 4]:::failure-->B;\n",
    "\tF[Method 5]:::failure-->A\n",
    "\tclassDef failure stroke:red,stroke-width:4px\n",
    "\tclassDef success stroke:green,stroke-width:4px"
   ]
  },
  {
   "cell_type": "markdown",
   "metadata": {},
   "source": [
    "In the example above each of the underlying methods can return a `Failure`. And the calling method might want to propagate them. The `Errors` concept says that like a program module is structured as a tree, an error produced by it can also be represented as a tree."
   ]
  },
  {
   "cell_type": "code",
   "execution_count": null,
   "metadata": {
    "dotnet_interactive": {
     "language": "mermaid"
    },
    "vscode": {
     "languageId": "dotnet-interactive.mermaid"
    }
   },
   "outputs": [
    {
     "data": {
      "text/html": [
       "<div class=\"mermaidMarkdownContainer\" style=\"background-color:white\">\r\n",
       "<script type=\"text/javascript\">\r\n",
       "\r\n",
       "loadMermaid_5f03a7eb9d1d4aeca17cff0375418ff7 = () => {\r\n",
       " \r\n",
       "        (require.config({ 'paths': { 'context': '9.1.1', 'mermaidUri' : 'https://cdn.jsdelivr.net/npm/mermaid@9.1.1/dist/mermaid.min', 'urlArgs': 'cacheBuster=b5627142f98142979a898a7985eba78b' }}) || require)(['mermaidUri'], (mermaid) => {\r\n",
       "\r\n",
       "            let renderTarget = document.getElementById('5f03a7eb9d1d4aeca17cff0375418ff7');\r\n",
       "            mermaid.mermaidAPI.render( \r\n",
       "                'mermaid_5f03a7eb9d1d4aeca17cff0375418ff7', \r\n",
       "                `graph BT;\r\n",
       "\tB[Failure 3+4]-->A[Root failure];\r\n",
       "\tD[Failure 3]-->B;\r\n",
       "\tE[Failure 4]-->B;\r\n",
       "\tF[Failure 5]-->A;\t\r\n",
       "\tG[Failure 6]-->F\r\n",
       "\tclassDef default stroke:red,stroke-width:4px`, \r\n",
       "                g => {\r\n",
       "                    renderTarget.innerHTML = g \r\n",
       "                });\r\n",
       "        },\r\n",
       "        (error) => {\r\n",
       "            console.log(error);\r\n",
       "        });\r\n",
       "}\r\n",
       "// ensure `require` is available globally\r\n",
       "if ((typeof(require) !==  typeof(Function)) || (typeof(require.config) !== typeof(Function))) {\r\n",
       "    let require_script = document.createElement('script');\r\n",
       "    require_script.setAttribute('src', 'https://cdnjs.cloudflare.com/ajax/libs/require.js/2.3.6/require.min.js');\r\n",
       "    require_script.setAttribute('type', 'text/javascript');\r\n",
       "    \r\n",
       "    \r\n",
       "    require_script.onload = function() {\r\n",
       "        loadMermaid_5f03a7eb9d1d4aeca17cff0375418ff7();\r\n",
       "    };\r\n",
       "\r\n",
       "    document.getElementsByTagName('head')[0].appendChild(require_script);\r\n",
       "}\r\n",
       "else {\r\n",
       "    loadMermaid_5f03a7eb9d1d4aeca17cff0375418ff7();\r\n",
       "}\r\n",
       "\r\n",
       "</script>\r\n",
       "<div id=\"5f03a7eb9d1d4aeca17cff0375418ff7\"></div>\r\n",
       "</div>\r\n"
      ]
     },
     "metadata": {},
     "output_type": "display_data"
    }
   ],
   "source": [
    "graph BT;\n",
    "\tB[Failure 3+4]-->A[Root failure];\n",
    "\tD[Failure 3]-->B;\n",
    "\tE[Failure 4]-->B;\n",
    "\tF[Failure 5]-->A;\t\n",
    "\tG[Failure 6]-->F\n",
    "\tclassDef default stroke:red,stroke-width:4px"
   ]
  },
  {
   "cell_type": "markdown",
   "metadata": {},
   "source": [
    "The library provides a set of types and methods to build such trees. One limitation is worth mentioning, is that it can only be built on the same type instances, so it is not compatible with the approach when each operation defines its type/enum for errors.\n"
   ]
  },
  {
   "cell_type": "code",
   "execution_count": null,
   "metadata": {
    "dotnet_interactive": {
     "language": "csharp"
    },
    "vscode": {
     "languageId": "dotnet-interactive.csharp"
    }
   },
   "outputs": [
    {
     "data": {
      "text/plain": [
       "root\r\n",
       "  └─> 3+4\r\n",
       "    └─> 3\r\n",
       "    └─> 4\r\n",
       "  └─> 5\r\n",
       "    └─> 6"
      ]
     },
     "metadata": {},
     "output_type": "display_data"
    }
   ],
   "source": [
    "Errors.Create(\"root\",\n",
    "\tErrors.Create(\"3+4\",\n",
    "\t\tErrors.Create(\"3\"),\n",
    "\t\tErrors.Create(\"4\")\n",
    "\t),\n",
    "\tErrors.Create(\"5\",\t\n",
    "\t\tErrors.Create(\"6\")\n",
    "\t)\n",
    ").ToString()"
   ]
  },
  {
   "cell_type": "markdown",
   "metadata": {},
   "source": [
    "Or, using an alternative syntax:"
   ]
  },
  {
   "cell_type": "code",
   "execution_count": null,
   "metadata": {
    "dotnet_interactive": {
     "language": "csharp"
    },
    "vscode": {
     "languageId": "dotnet-interactive.csharp"
    }
   },
   "outputs": [
    {
     "data": {
      "text/plain": [
       "root\r\n",
       "  └─> 3+4\r\n",
       "    └─> 3\r\n",
       "    └─> 4\r\n",
       "  └─> 5\r\n",
       "    └─> 6"
      ]
     },
     "metadata": {},
     "output_type": "display_data"
    }
   ],
   "source": [
    "\"root\".ToErrors(\n",
    "\t\"3+4\".ToErrors(\n",
    "\t\t\"3\".ToErrors(),\n",
    "\t\t\"4\".ToErrors()\n",
    "\t),\n",
    "\t\"5\".ToErrors(\n",
    "\t\t\"6\".ToErrors()\n",
    "\t)\n",
    ").ToString()"
   ]
  },
  {
   "cell_type": "markdown",
   "metadata": {
    "dotnet_interactive": {
     "language": "csharp"
    }
   },
   "source": [
    "### Zip\n",
    "\n",
    "The concept implies that there are failures in each node, not just in its leaves. When combining two failures from underlying methods, it can be useful to enrich the errors with some context from the current method.\n",
    "\n",
    "Let's design a program that converts temperature from Fahrenheit to Kelvin. "
   ]
  },
  {
   "cell_type": "code",
   "execution_count": null,
   "metadata": {
    "dotnet_interactive": {
     "language": "mermaid"
    },
    "vscode": {
     "languageId": "dotnet-interactive.mermaid"
    }
   },
   "outputs": [
    {
     "data": {
      "text/html": [
       "<div class=\"mermaidMarkdownContainer\" style=\"background-color:white\">\r\n",
       "<script type=\"text/javascript\">\r\n",
       "\r\n",
       "loadMermaid_4a29b99d5a904da09998b80f4625b746 = () => {\r\n",
       " \r\n",
       "        (require.config({ 'paths': { 'context': '9.1.1', 'mermaidUri' : 'https://cdn.jsdelivr.net/npm/mermaid@9.1.1/dist/mermaid.min', 'urlArgs': 'cacheBuster=b5627142f98142979a898a7985eba78b' }}) || require)(['mermaidUri'], (mermaid) => {\r\n",
       "\r\n",
       "            let renderTarget = document.getElementById('4a29b99d5a904da09998b80f4625b746');\r\n",
       "            mermaid.mermaidAPI.render( \r\n",
       "                'mermaid_4a29b99d5a904da09998b80f4625b746', \r\n",
       "                `graph BT;\n",
       "\tB[FarenheitToCelsius]-->A[FahrenheitToKelvin];\n",
       "\tC[GetRatio]-->B;\n",
       "\tD[GetOffset]-->B;\n",
       "\tF[GetKelvinOffset]-->A`, \r\n",
       "                g => {\r\n",
       "                    renderTarget.innerHTML = g \r\n",
       "                });\r\n",
       "        },\r\n",
       "        (error) => {\r\n",
       "            console.log(error);\r\n",
       "        });\r\n",
       "}\r\n",
       "// ensure `require` is available globally\r\n",
       "if ((typeof(require) !==  typeof(Function)) || (typeof(require.config) !== typeof(Function))) {\r\n",
       "    let require_script = document.createElement('script');\r\n",
       "    require_script.setAttribute('src', 'https://cdnjs.cloudflare.com/ajax/libs/require.js/2.3.6/require.min.js');\r\n",
       "    require_script.setAttribute('type', 'text/javascript');\r\n",
       "    \r\n",
       "    \r\n",
       "    require_script.onload = function() {\r\n",
       "        loadMermaid_4a29b99d5a904da09998b80f4625b746();\r\n",
       "    };\r\n",
       "\r\n",
       "    document.getElementsByTagName('head')[0].appendChild(require_script);\r\n",
       "}\r\n",
       "else {\r\n",
       "    loadMermaid_4a29b99d5a904da09998b80f4625b746();\r\n",
       "}\r\n",
       "\r\n",
       "</script>\r\n",
       "<div id=\"4a29b99d5a904da09998b80f4625b746\"></div>\r\n",
       "</div>\r\n"
      ]
     },
     "metadata": {},
     "output_type": "display_data"
    }
   ],
   "source": [
    "graph BT;\n",
    "\tB[FarenheitToCelsius]-->A[FahrenheitToKelvin];\n",
    "\tC[GetRatio]-->B;\n",
    "\tD[GetOffset]-->B;\n",
    "\tF[GetKelvinOffset]-->A"
   ]
  },
  {
   "cell_type": "code",
   "execution_count": null,
   "metadata": {
    "dotnet_interactive": {
     "language": "csharp"
    },
    "vscode": {
     "languageId": "dotnet-interactive.csharp"
    }
   },
   "outputs": [],
   "source": [
    "Result<double, string> ratio = 5d/9;\n",
    "Result<double, string> GetRatio() => ratio;\n",
    "Result<double, string> offset = -32;\n",
    "Result<double, string> GetOffset() => offset;\n",
    "Result<double, string> kelvinOffset = 273.15;\n",
    "Result<double, string> GetKelvinOffset() => kelvinOffset;"
   ]
  },
  {
   "cell_type": "markdown",
   "metadata": {},
   "source": [
    "In `FarenheitToCelsius` and `FahrenheitToKelvin` we want to let both errors propagate, but also enrich them with new roots."
   ]
  },
  {
   "cell_type": "code",
   "execution_count": null,
   "metadata": {
    "dotnet_interactive": {
     "language": "csharp"
    },
    "vscode": {
     "languageId": "dotnet-interactive.csharp"
    }
   },
   "outputs": [
    {
     "data": {
      "text/html": [
       "<span style=\"border: 4px solid green; background-color: hsla(231, 100%, 60%, 0.2); white-space: pre-line;padding: 10px; display: inline-block\"><div class=\"dni-plaintext\">273.15</div></span>\r\n"
      ]
     },
     "metadata": {},
     "output_type": "display_data"
    }
   ],
   "source": [
    "Result<double, Errors<string>> FarenheitToCelsius(double farenheit) \n",
    "{\n",
    "\tvar ratioResult = GetRatio().ToErrors();\n",
    "\tvar offsetResult = GetOffset().ToErrors();\n",
    "\treturn (ratioResult, offsetResult).Zip(_ => $\"Could not convert {farenheit}°F to °C\") // they can be combined then with the Zip method\n",
    "\t\t.Map(t => {\n",
    "\t\t\tvar (ratio, offset) = t;\n",
    "\t\t\treturn (farenheit + offset) * ratio;\n",
    "\t\t});\n",
    "}\n",
    "\n",
    "Result<double, Errors<string>> FarenheitToKelvin(double farenheit) \n",
    "{\n",
    "\tvar celciusResult = FarenheitToCelsius(farenheit);\n",
    "\tvar kelvinOffsetResult = GetKelvinOffset().ToErrors();\n",
    "\treturn (celciusResult, kelvinOffsetResult).Zip(_ => $\"Could not convert {farenheit}°F to °K\")\n",
    "\t\t.Map(t => {\n",
    "\t\t\tvar (celcius, offset) = t;\n",
    "\t\t\treturn celcius + offset;\n",
    "\t\t});\n",
    "}\n",
    "\n",
    "FarenheitToKelvin(32)"
   ]
  },
  {
   "cell_type": "code",
   "execution_count": null,
   "metadata": {
    "dotnet_interactive": {
     "language": "csharp"
    },
    "vscode": {
     "languageId": "dotnet-interactive.csharp"
    }
   },
   "outputs": [
    {
     "data": {
      "text/html": [
       "<span style=\"border: 4px solid red; background-color: hsla(81, 100%, 60%, 0.2); white-space: pre-line;padding: 10px; display: inline-block\"><ul style=\"padding-left: 20pt; list-style-type: none\"><li><span>Could not convert 32&#176;F to &#176;K</span><ul style=\"padding-left: 20pt; list-style-type: none\"><li><span>Could not convert 32&#176;F to &#176;C</span><ul style=\"padding-left: 20pt; list-style-type: none\"><li><span>couldn&#39;t get ratio</span><ul style=\"padding-left: 20pt; list-style-type: none\"></ul></li></ul></li></ul></li></ul>\r\n",
       "</span>\r\n"
      ]
     },
     "metadata": {},
     "output_type": "display_data"
    }
   ],
   "source": [
    "ratio = \"couldn't get ratio\";\n",
    "\n",
    "FarenheitToKelvin(32)"
   ]
  },
  {
   "cell_type": "code",
   "execution_count": null,
   "metadata": {
    "dotnet_interactive": {
     "language": "csharp"
    },
    "vscode": {
     "languageId": "dotnet-interactive.csharp"
    }
   },
   "outputs": [
    {
     "data": {
      "text/html": [
       "<span style=\"border: 4px solid red; background-color: hsla(81, 100%, 60%, 0.2); white-space: pre-line;padding: 10px; display: inline-block\"><ul style=\"padding-left: 20pt; list-style-type: none\"><li><span>Could not convert 32&#176;F to &#176;K</span><ul style=\"padding-left: 20pt; list-style-type: none\"><li><span>Could not convert 32&#176;F to &#176;C</span><ul style=\"padding-left: 20pt; list-style-type: none\"><li><span>couldn&#39;t get ratio</span><ul style=\"padding-left: 20pt; list-style-type: none\"></ul></li><li><span>couldn&#39;t get offset</span><ul style=\"padding-left: 20pt; list-style-type: none\"></ul></li></ul></li><li><span>couldn&#39;t get kelvin offset</span><ul style=\"padding-left: 20pt; list-style-type: none\"></ul></li></ul></li></ul>\r\n",
       "</span>\r\n"
      ]
     },
     "metadata": {},
     "output_type": "display_data"
    }
   ],
   "source": [
    "offset = \"couldn't get offset\";\n",
    "kelvinOffset = \"couldn't get kelvin offset\";\n",
    "\n",
    "FarenheitToKelvin(32)"
   ]
  },
  {
   "cell_type": "markdown",
   "metadata": {},
   "source": [
    "An enumerable of of one-type results can also be zipped, as well as individual results."
   ]
  },
  {
   "cell_type": "code",
   "execution_count": null,
   "metadata": {
    "dotnet_interactive": {
     "language": "csharp"
    },
    "vscode": {
     "languageId": "dotnet-interactive.csharp"
    }
   },
   "outputs": [
    {
     "data": {
      "text/html": [
       "<span style=\"border: 4px solid red; background-color: hsla(81, 100%, 60%, 0.2); white-space: pre-line;padding: 10px; display: inline-block\"><ul style=\"padding-left: 20pt; list-style-type: none\"><li><span>Couldn&#39;t convert</span><ul style=\"padding-left: 20pt; list-style-type: none\"><li><span>Couldn&#39;t get 2 constants</span><ul style=\"padding-left: 20pt; list-style-type: none\"><li><span>couldn&#39;t get ratio</span><ul style=\"padding-left: 20pt; list-style-type: none\"></ul></li><li><span>couldn&#39;t get offset</span><ul style=\"padding-left: 20pt; list-style-type: none\"></ul></li></ul></li></ul></li></ul>\r\n",
       "</span>\r\n"
      ]
     },
     "metadata": {},
     "output_type": "display_data"
    }
   ],
   "source": [
    "new [] {\n",
    "\tratio,\n",
    "\toffset\n",
    "}.Select(ZipExtensions.ToErrors)\n",
    ".Zip(failures => $\"Couldn't get {failures.Count} constants\")\n",
    ".Zip(_ => \"Couldn't convert\")"
   ]
  }
 ],
 "metadata": {
  "kernelspec": {
   "display_name": ".NET (C#)",
   "language": "C#",
   "name": ".net-csharp"
  },
  "language_info": {
   "file_extension": ".cs",
   "mimetype": "text/x-csharp",
   "name": "C#",
   "pygments_lexer": "csharp",
   "version": "9.0"
  },
  "orig_nbformat": 4
 },
 "nbformat": 4,
 "nbformat_minor": 2
}
